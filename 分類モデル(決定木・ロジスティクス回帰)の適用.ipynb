{
 "cells": [
  {
   "cell_type": "markdown",
   "metadata": {},
   "source": [
    "# 農場IoTデータを用いて分類モデル作成\n",
    "    * pysparkによるグリッドサーチ\n",
    "    * 交差検証\n",
    "    * pipeline\n",
    "    * ロジスティクス回帰\n",
    "    * 決定木"
   ]
  },
  {
   "cell_type": "code",
   "execution_count": 11,
   "metadata": {},
   "outputs": [],
   "source": [
    "import findspark\n",
    "findspark.init('/home/yoshi-1/spark-3.1.1-bin-hadoop2.7')\n",
    "\n",
    "from pyspark.sql import SparkSession\n",
    "from pyspark.sql.types import *\n",
    "\n",
    "from pyspark.ml.classification import DecisionTreeClassifier\n",
    "from pyspark.ml.evaluation import BinaryClassificationEvaluator\n",
    "from pyspark.ml.feature import VectorAssembler\n",
    "from pyspark.ml.pipeline import Pipeline\n",
    "from pyspark.ml.tuning import ParamGridBuilder\n",
    "from pyspark.ml.tuning import CrossValidator"
   ]
  },
  {
   "cell_type": "markdown",
   "metadata": {},
   "source": [
    "## sparksessionのインスタンス化とデータ読み込み"
   ]
  },
  {
   "cell_type": "code",
   "execution_count": 12,
   "metadata": {},
   "outputs": [],
   "source": [
    "# sparksessionのインスタンス化\n",
    "ss = SparkSession \\\n",
    "            .builder \\\n",
    "            .appName(\"Classsification\") \\\n",
    "            .enableHiveSupport() \\\n",
    "            .getOrCreate()"
   ]
  },
  {
   "cell_type": "code",
   "execution_count": 13,
   "metadata": {},
   "outputs": [],
   "source": [
    "# 読み込むｃｓｖファイルのスキーマを定義\n",
    "struct = StructType([\n",
    "            StructField('Year', StringType(), False),\n",
    "            StructField('FarmID', DoubleType(), False),\n",
    "            StructField('MeanHighestTemperature', DoubleType(), False),\n",
    "            StructField('MeanMinimumtemperature', DoubleType(), False),\n",
    "            StructField('MeanWhc', DoubleType(), False),\n",
    "            StructField('MeanDaylightHours', DoubleType(), False),\n",
    "            StructField('MeanDayOfSoilAcidityRange', DoubleType(), False),\n",
    "            StructField('TotalYield', DoubleType(), False),\n",
    "            StructField('Area', DoubleType(), False),\n",
    "            StructField('YieldPerA', DoubleType(), False),\n",
    "            StructField('label', DoubleType(), False)\n",
    "        ])"
   ]
  },
  {
   "cell_type": "code",
   "execution_count": 14,
   "metadata": {},
   "outputs": [
    {
     "name": "stdout",
     "output_type": "stream",
     "text": [
      "+----+------+----------------------+----------------------+-------+-----------------+-------------------------+----------+----+---------+-----+\n",
      "|Year|FarmID|MeanHighestTemperature|MeanMinimumtemperature|MeanWhc|MeanDaylightHours|MeanDayOfSoilAcidityRange|TotalYield|Area|YieldPerA|label|\n",
      "+----+------+----------------------+----------------------+-------+-----------------+-------------------------+----------+----+---------+-----+\n",
      "|2007|1.0   |6.93                  |-1.3                  |14.17  |171.12           |18.0                     |1423222.21|4.5 |3162.72  |0.0  |\n",
      "|2007|2.0   |7.77                  |-0.63                 |15.83  |172.62           |18.0                     |1457585.51|5.0 |2915.17  |0.0  |\n",
      "|2007|3.0   |7.77                  |-1.13                 |14.5   |169.28           |18.0                     |1150258.61|3.0 |3834.2   |1.0  |\n",
      "|2007|4.0   |6.77                  |0.03                  |16.67  |170.12           |19.0                     |2327859.58|6.0 |3879.77  |1.0  |\n",
      "|2007|5.0   |6.93                  |-1.47                 |17.5   |173.78           |18.0                     |1448612.55|4.0 |3621.53  |1.0  |\n",
      "+----+------+----------------------+----------------------+-------+-----------------+-------------------------+----------+----+---------+-----+\n",
      "only showing top 5 rows\n",
      "\n"
     ]
    }
   ],
   "source": [
    "# csv読み込み\n",
    "df5 = ss.read.csv('./batchAnalysticsData_train_5.csv', \n",
    "                    header=True,\n",
    "                     encoding='UTF-8',\n",
    "                     schema=struct)\n",
    "\n",
    "df5.show(5, truncate=False)"
   ]
  },
  {
   "cell_type": "markdown",
   "metadata": {},
   "source": [
    "## 訓練データとテストデータに分割"
   ]
  },
  {
   "cell_type": "code",
   "execution_count": 15,
   "metadata": {},
   "outputs": [],
   "source": [
    "df5TrainData, df5TestData = df5.randomSplit([0.7, 0.3], 50)"
   ]
  },
  {
   "cell_type": "markdown",
   "metadata": {},
   "source": [
    "## 決定木モデルの作成\n",
    "#### ・pipelineの利用\n",
    "#### ・ GridSearchとCross Validationの使用"
   ]
  },
  {
   "cell_type": "code",
   "execution_count": 16,
   "metadata": {},
   "outputs": [],
   "source": [
    "# 特徴量のベクトル化ステージ\n",
    "assemblerForDTC = VectorAssembler(inputCols=[\n",
    "                    \"MeanHighestTemperature\",\n",
    "                    \"MeanMinimumtemperature\",\n",
    "                    \"MeanWhc\",\n",
    "                    \"MeanDaylightHours\",\n",
    "                    \"MeanDayOfSoilAcidityRange\",\n",
    "                    ], outputCol=\"features\")"
   ]
  },
  {
   "cell_type": "code",
   "execution_count": 17,
   "metadata": {},
   "outputs": [],
   "source": [
    "# 決定木のステージ\n",
    "classifierByDT = DecisionTreeClassifier().setLabelCol(\"label\").setFeaturesCol(\"features\")"
   ]
  },
  {
   "cell_type": "code",
   "execution_count": 18,
   "metadata": {},
   "outputs": [],
   "source": [
    "# pipeline作成\n",
    "pipelineForDTC = Pipeline(stages=[assemblerForDTC, classifierByDT])"
   ]
  },
  {
   "cell_type": "code",
   "execution_count": 19,
   "metadata": {},
   "outputs": [],
   "source": [
    "# グリッドサーチ用インスタンスの生成\n",
    "# サーチ対象\n",
    "#     ・maxBins：連続値を不連続値にビン分けするときのビンの数\n",
    "#     ・maxDepth：木の深さ\n",
    "paramGridForDTC = ParamGridBuilder()\\\n",
    "                    .addGrid(\n",
    "                        classifierByDT.maxBins,\n",
    "                        [10, 20, 30, 40, 50])\\\n",
    "                    .addGrid(\n",
    "                        classifierByDT.maxDepth,\n",
    "                        [2, 3, 4]).build()"
   ]
  },
  {
   "cell_type": "code",
   "execution_count": 20,
   "metadata": {},
   "outputs": [],
   "source": [
    "# Evaluator(モデル評価用インスタンス)の生成\n",
    "evaluatorForDTC = BinaryClassificationEvaluator()\\\n",
    "                    .setLabelCol(\"label\")\\\n",
    "                    .setRawPredictionCol(classifierByDT.getRawPredictionCol())\\\n",
    "                    .setMetricName(\"areaUnderROC\")"
   ]
  },
  {
   "cell_type": "code",
   "execution_count": 21,
   "metadata": {},
   "outputs": [],
   "source": [
    "# クロスバリデーション用インスタンスの生成\n",
    "crossValForDTC = CrossValidator()\\\n",
    "                    .setEstimator(pipelineForDTC)\\\n",
    "                    .setEvaluator(evaluatorForDTC)\\\n",
    "                    .setEstimatorParamMaps(paramGridForDTC)\\\n",
    "                    .setNumFolds(10)"
   ]
  },
  {
   "cell_type": "code",
   "execution_count": 22,
   "metadata": {},
   "outputs": [],
   "source": [
    "# クロスバリデーションの実施\n",
    "crossValForDTCModel = crossValForDTC.fit(df5TrainData)"
   ]
  },
  {
   "cell_type": "code",
   "execution_count": 23,
   "metadata": {},
   "outputs": [
    {
     "name": "stdout",
     "output_type": "stream",
     "text": [
      " AUC-TrainData(DecisionTree)：  0.99375\n"
     ]
    }
   ],
   "source": [
    "# 訓練データで予測を行い、AUCを出力\n",
    "predictionByDTC = crossValForDTCModel.transform(df5TrainData)\n",
    "aucByDTC = evaluatorForDTC.evaluate(predictionByDTC)\n",
    "print(\" AUC-TrainData(DecisionTree)： \", aucByDTC)"
   ]
  },
  {
   "cell_type": "markdown",
   "metadata": {},
   "source": [
    "## ロジスティクス回帰モデルの作成"
   ]
  },
  {
   "cell_type": "code",
   "execution_count": 24,
   "metadata": {},
   "outputs": [],
   "source": [
    "from pyspark.ml.feature import StandardScaler\n",
    "from pyspark.ml.classification import LogisticRegression "
   ]
  },
  {
   "cell_type": "code",
   "execution_count": 32,
   "metadata": {},
   "outputs": [],
   "source": [
    "# 特徴量選択のため、候補となる組み合わせ分のVectorAssemblerを定義する\n",
    "# 候補\n",
    "# 1. 畑×土壌酸度範囲内日数×平均最高気温\n",
    "# 2. 畑×土壌酸度範囲内日数×平均最低気温\n",
    "# 3. 畑×土壌酸度範囲内日数×平均含水分量\n",
    "# 4. 畑×土壌酸度範囲内日数×日照合計時間\n",
    "\n",
    "assemblerForLC = []\n",
    "# 1\n",
    "assemblerForLC.append(\n",
    "    VectorAssembler(inputCols=[\n",
    "        \"FarmID\",\n",
    "        \"MeanDayOfSoilAcidityRange\",\n",
    "        \"MeanHighestTemperature\",\n",
    "        ],\n",
    "        outputCol=\"features\")\n",
    "    )\n",
    "# 2\n",
    "assemblerForLC.append(\n",
    "    VectorAssembler(inputCols=[\n",
    "        \"FarmID\",\n",
    "        \"MeanDayOfSoilAcidityRange\",\n",
    "        \"MeanMinimumtemperature\",\n",
    "        ],\n",
    "        outputCol=\"features\")\n",
    "    )\n",
    "# 3\n",
    "assemblerForLC.append(\n",
    "    VectorAssembler(inputCols=[\n",
    "        \"FarmID\",\n",
    "        \"MeanDayOfSoilAcidityRange\",\n",
    "        \"MeanWhc\",\n",
    "        ],\n",
    "        outputCol=\"features\")\n",
    "    )\n",
    "# 4\n",
    "assemblerForLC.append(\n",
    "    VectorAssembler(inputCols=[\n",
    "        \"FarmID\",\n",
    "        \"MeanDayOfSoilAcidityRange\",\n",
    "        \"MeanDaylightHours\",\n",
    "        ],\n",
    "        outputCol=\"features\")\n",
    "    )"
   ]
  },
  {
   "cell_type": "code",
   "execution_count": 33,
   "metadata": {},
   "outputs": [],
   "source": [
    "# Pipelineの定義\n",
    "\n",
    "# 標準化ステージ\n",
    "scalerForLC = StandardScaler(\n",
    "                inputCol=\"features\",\n",
    "                outputCol=\"standardedFeature\",\n",
    "                withStd=True, withMean=True)\n",
    "\n",
    "# ロジスティクス回帰ステージ\n",
    "logisticClassification = LogisticRegression().setLabelCol(\"label\")\\\n",
    "                                            .setFeaturesCol(\"standardedFeature\")\\\n",
    "                                            .setStandardization(True)\n",
    "\n",
    "# 特徴量組み合わせごとのpipeline入れるリスト\n",
    "pipelineForLC = []\n",
    "\n",
    "# 特徴量組み合わせごとにpipelineを生成し、リストに入れる\n",
    "for assembler in assemblerForLC:\n",
    "    pipelineForLC.append(\n",
    "        Pipeline(\n",
    "            stages=[\n",
    "                assembler,\n",
    "                scalerForLC,\n",
    "                logisticClassification\n",
    "                ]\n",
    "        )\n",
    "    )"
   ]
  },
  {
   "cell_type": "code",
   "execution_count": 34,
   "metadata": {},
   "outputs": [],
   "source": [
    "# グリッドサーチ、クロスバリデーション\n",
    "\n",
    "# グリッドサーチ生成\n",
    "# 最適化するパラメータの種類と、検証対象の値をセット\n",
    "paramGridForLC = ParamGridBuilder()\\\n",
    "                    .addGrid(\n",
    "                        logisticClassification.regParam,\n",
    "                        [0.001, 0.01, 0.1, 1.0, 10.0, 100.0])\\\n",
    "                    .addGrid(\n",
    "                        logisticClassification.maxIter,\n",
    "                        [10, 100, 1000])\\\n",
    "                    .build()\n",
    "\n",
    "# Evaluatorの生成\n",
    "evaluatorForLC = BinaryClassificationEvaluator().setLabelCol(\"label\").setMetricName(\"areaUnderROC\")\n",
    "\n",
    "# クロスバリデーションの生成\n",
    "crossValidatorForLC = []\n",
    "for pipeline in pipelineForLC:\n",
    "    crossValidatorForLC.append(\n",
    "        CrossValidator().setEstimator(pipeline).setEvaluator(evaluatorForLC)\\\n",
    "            .setEstimatorParamMaps(paramGridForLC).setNumFolds(10))"
   ]
  },
  {
   "cell_type": "code",
   "execution_count": 35,
   "metadata": {},
   "outputs": [
    {
     "name": "stdout",
     "output_type": "stream",
     "text": [
      " -- df5TrainData --\n",
      "+----+------+----------------------+----------------------+-------+-----------------+-------------------------+----------+----+---------+-----+\n",
      "|Year|FarmID|MeanHighestTemperature|MeanMinimumtemperature|MeanWhc|MeanDaylightHours|MeanDayOfSoilAcidityRange|TotalYield|Area|YieldPerA|label|\n",
      "+----+------+----------------------+----------------------+-------+-----------------+-------------------------+----------+----+---------+-----+\n",
      "|2007|   1.0|                  6.93|                  -1.3|  14.17|           171.12|                     18.0|1423222.21| 4.5|  3162.72|  0.0|\n",
      "|2007|   2.0|                  7.77|                 -0.63|  15.83|           172.62|                     18.0|1457585.51| 5.0|  2915.17|  0.0|\n",
      "|2007|   3.0|                  7.77|                 -1.13|   14.5|           169.28|                     18.0|1150258.61| 3.0|   3834.2|  1.0|\n",
      "|2007|   4.0|                  6.77|                  0.03|  16.67|           170.12|                     19.0|2327859.58| 6.0|  3879.77|  1.0|\n",
      "|2007|   5.0|                  6.93|                 -1.47|   17.5|           173.78|                     18.0|1448612.55| 4.0|  3621.53|  1.0|\n",
      "|2008|   1.0|                  6.77|                 -0.47|  14.67|           176.62|                     20.0|1817120.47| 4.5|  4038.05|  1.0|\n",
      "|2008|   2.0|                  6.93|                 -1.13|  15.33|           166.62|                     20.0|2111691.74| 5.0|  4223.38|  1.0|\n",
      "|2008|   3.0|                   8.1|                 -1.13|   15.5|           163.12|                     21.0|1225468.03| 3.0|  4084.89|  1.0|\n",
      "|2008|   4.0|                  7.93|                  -0.8|   17.0|           174.12|                     19.0|2784617.62| 6.0|  4641.03|  1.0|\n",
      "|2009|   1.0|                  7.43|                 -0.13|  16.33|           169.78|                     19.0| 1515486.0| 4.5|  3367.75|  1.0|\n",
      "|2009|   2.0|                   6.6|                  0.03|  18.17|           175.45|                     21.0|2295080.42| 5.0|  4590.16|  1.0|\n",
      "|2009|   3.0|                   7.1|                 -0.47|  17.33|           171.62|                     19.0|1235863.09| 3.0|  4119.54|  1.0|\n",
      "|2009|   4.0|                   8.1|                   0.2|  18.33|           166.28|                     21.0|2176601.63| 6.0|  3627.67|  0.0|\n",
      "|2010|   1.0|                  7.27|                  -0.8|  15.67|           169.62|                     19.0|1881345.57| 4.5|  4180.77|  1.0|\n",
      "|2010|   2.0|                   8.1|                  -0.8|   15.5|           167.28|                     18.0|1189336.27| 5.0|  2378.67|  0.0|\n",
      "|2010|   4.0|                  7.27|                   0.2|  15.67|           169.45|                     21.0|2496696.69| 6.0|  4161.16|  1.0|\n",
      "|2010|   5.0|                  6.93|                 -0.13|  17.17|           171.12|                     19.0|1385340.26| 4.0|  3463.35|  1.0|\n",
      "|2011|   1.0|                  6.77|                 -0.47|  16.67|           168.95|                     19.0|1582906.76| 4.5|  3517.57|  1.0|\n",
      "|2011|   2.0|                  7.43|                 -0.13|  16.83|           172.45|                     18.0|2566974.75| 5.0|  5133.95|  1.0|\n",
      "|2011|   3.0|                  7.93|                 -0.13|  17.33|           167.45|                     20.0| 829522.99| 3.0|  2765.08|  0.0|\n",
      "+----+------+----------------------+----------------------+-------+-----------------+-------------------------+----------+----+---------+-----+\n",
      "only showing top 20 rows\n",
      "\n",
      " -- AUC-TrainData(Logistic Regression) --\n",
      "0 0.7375\n",
      "1 0.5958333333333334\n",
      "2 0.5958333333333333\n",
      "3 0.6583333333333333\n",
      "\n",
      "CPU times: user 19.6 s, sys: 10.4 s, total: 30 s\n",
      "Wall time: 3min 45s\n"
     ]
    }
   ],
   "source": [
    "%%time\n",
    "\n",
    "# モデルを作成し、訓練データをインプットに予測を行う\n",
    "\n",
    "# クロスバリデーションモデルの生成\n",
    "modelForLC = []\n",
    "for crossValidator in crossValidatorForLC:\n",
    "    modelForLC.append(crossValidator.fit(df5TrainData))\n",
    "    \n",
    "# 訓練データで予測を行い、AUCを取得し、出力\n",
    "print(\" -- df5TrainData --\")\n",
    "df5TrainData.show()\n",
    "print(\" -- AUC-TrainData(Logistic Regression) --\")\n",
    "for i, model in enumerate(modelForLC):\n",
    "    prediction = model.transform(df5TrainData)\n",
    "    auc = evaluatorForLC.evaluate(prediction)\n",
    "    print(i, auc)\n",
    "print(\"\")"
   ]
  },
  {
   "cell_type": "code",
   "execution_count": null,
   "metadata": {},
   "outputs": [],
   "source": [
    "# 上記結果より、1の組み合わせ（畑×土壌酸度範囲内日数×平均最高気温）を選択する"
   ]
  },
  {
   "cell_type": "markdown",
   "metadata": {},
   "source": [
    "## モデル選択\n",
    "### 決定木、ロジスティクス回帰にテストデータ渡してAUCで評価"
   ]
  },
  {
   "cell_type": "code",
   "execution_count": 36,
   "metadata": {},
   "outputs": [
    {
     "name": "stdout",
     "output_type": "stream",
     "text": [
      "-- AUC-TestData(Decision Tree) --\n",
      "0.59375 \n",
      "\n"
     ]
    }
   ],
   "source": [
    "# 決定木モデルにテストデータ渡して、AUCを取得\n",
    "predictionTestDataByDTC = crossValForDTCModel.transform(df5TestData)\n",
    "aucTestDataByDTC = evaluatorForDTC.evaluate(predictionTestDataByDTC)\n",
    "print(\"-- AUC-TestData(Decision Tree) --\")\n",
    "print(aucTestDataByDTC, \"\\n\")"
   ]
  },
  {
   "cell_type": "code",
   "execution_count": 37,
   "metadata": {},
   "outputs": [
    {
     "name": "stdout",
     "output_type": "stream",
     "text": [
      "-- AUC-TestData(Logistic Regression) --\n",
      "0.625 \n",
      "\n"
     ]
    }
   ],
   "source": [
    "# ロジスティクス回帰モデルにテストデータ渡して、AUCを取得\n",
    "predictionTestDataByLC = modelForLC[0].transform(df5TestData)\n",
    "aucTestDataByLC = evaluatorForLC.evaluate(predictionTestDataByLC)\n",
    "print(\"-- AUC-TestData(Logistic Regression) --\")\n",
    "print(aucTestDataByLC, \"\\n\")"
   ]
  },
  {
   "cell_type": "code",
   "execution_count": null,
   "metadata": {},
   "outputs": [],
   "source": [
    "# 上記より、ロジスティクス回帰のほうが精度が高いので、ロジスティクス回帰を選択する"
   ]
  },
  {
   "cell_type": "code",
   "execution_count": 38,
   "metadata": {},
   "outputs": [
    {
     "name": "stdout",
     "output_type": "stream",
     "text": [
      "+----+------+----------------------+----------------------+-------+-----------------+-------------------------+----------+----+---------+-----+\n",
      "|Year|FarmID|MeanHighestTemperature|MeanMinimumtemperature|MeanWhc|MeanDaylightHours|MeanDayOfSoilAcidityRange|TotalYield|Area|YieldPerA|label|\n",
      "+----+------+----------------------+----------------------+-------+-----------------+-------------------------+----------+----+---------+-----+\n",
      "|2017|   1.0|                  7.77|                 -0.63|   15.0|           173.95|                     20.0|      null|null|     null| null|\n",
      "|2017|   2.0|                  6.43|                 -1.13|  16.17|           175.78|                     19.0|      null|null|     null| null|\n",
      "|2017|   3.0|                   6.6|                 -0.13|   16.0|           173.78|                     21.0|      null|null|     null| null|\n",
      "|2017|   4.0|                  7.77|                  -0.8|  13.67|           170.45|                     20.0|      null|null|     null| null|\n",
      "|2017|   5.0|                  7.43|                  0.03|  17.83|           169.45|                     17.0|      null|null|     null| null|\n",
      "+----+------+----------------------+----------------------+-------+-----------------+-------------------------+----------+----+---------+-----+\n",
      "\n"
     ]
    }
   ],
   "source": [
    "# 未知データを用いてロジスティクス回帰で予測してみる\n",
    "\n",
    "# 未知データよりDataFrame生成\n",
    "df5Predict = ss.read.csv('./batchAnalysticsData_predict_5.csv',\n",
    "                        header=True, encoding=\"UTF-8\", schema=struct)\n",
    "df5Predict.show(10)"
   ]
  },
  {
   "cell_type": "code",
   "execution_count": 39,
   "metadata": {},
   "outputs": [
    {
     "name": "stdout",
     "output_type": "stream",
     "text": [
      "-- AUC-FutureData(Logistic Regression) --\n",
      "+------+--------------------+----------+\n",
      "|FarmID|         probability|prediction|\n",
      "+------+--------------------+----------+\n",
      "|   1.0|[0.53259603960872...|       0.0|\n",
      "|   2.0|[0.06610868314425...|       1.0|\n",
      "|   3.0|[0.03963171210502...|       1.0|\n",
      "|   4.0|[0.23382722347383...|       1.0|\n",
      "|   5.0|[0.16286436053485...|       1.0|\n",
      "+------+--------------------+----------+\n",
      "\n"
     ]
    }
   ],
   "source": [
    "# 予測\n",
    "print(\"-- AUC-FutureData(Logistic Regression) --\")\n",
    "predictionFutureDataByLC = modelForLC[0].transform(df5Predict)\n",
    "predictionFutureDataByLC.select(\"FarmID\", \"probability\", \"prediction\").show()"
   ]
  },
  {
   "cell_type": "code",
   "execution_count": null,
   "metadata": {},
   "outputs": [],
   "source": []
  },
  {
   "cell_type": "code",
   "execution_count": null,
   "metadata": {},
   "outputs": [],
   "source": []
  },
  {
   "cell_type": "code",
   "execution_count": null,
   "metadata": {},
   "outputs": [],
   "source": []
  }
 ],
 "metadata": {
  "kernelspec": {
   "display_name": "Python 3",
   "language": "python",
   "name": "python3"
  },
  "language_info": {
   "codemirror_mode": {
    "name": "ipython",
    "version": 3
   },
   "file_extension": ".py",
   "mimetype": "text/x-python",
   "name": "python",
   "nbconvert_exporter": "python",
   "pygments_lexer": "ipython3",
   "version": "3.8.10"
  }
 },
 "nbformat": 4,
 "nbformat_minor": 4
}
