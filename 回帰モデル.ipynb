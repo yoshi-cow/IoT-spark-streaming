{
 "cells": [
  {
   "cell_type": "markdown",
   "metadata": {},
   "source": [
    "# 農場IoTデータを用いて回帰モデル作成\n",
    "## 収穫量の予測モデル構築"
   ]
  },
  {
   "cell_type": "code",
   "execution_count": 2,
   "metadata": {},
   "outputs": [],
   "source": [
    "import findspark\n",
    "findspark.init('/home/yoshi-1/spark-3.1.1-bin-hadoop2.7')\n",
    "\n",
    "from pyspark.sql import SparkSession\n",
    "from pyspark.sql.types import *\n",
    "\n",
    "from pyspark.ml.feature import VectorAssembler\n",
    "from pyspark.ml.feature import StandardScaler\n",
    "from pyspark.ml.regression import LinearRegression\n",
    "from pyspark.ml.pipeline import Pipeline\n",
    "from pyspark.ml.evaluation import RegressionEvaluator\n",
    "from pyspark.ml.tuning import ParamGridBuilder\n",
    "from pyspark.ml.tuning import CrossValidator"
   ]
  },
  {
   "cell_type": "markdown",
   "metadata": {},
   "source": [
    "## sparksessionインスタンス作成、スキーマ定義、データ参照、DataFrame生成"
   ]
  },
  {
   "cell_type": "code",
   "execution_count": 3,
   "metadata": {},
   "outputs": [],
   "source": [
    "# sparksessionインスタンス\n",
    "ss = SparkSession\\\n",
    "        .builder\\\n",
    "        .appName(\"Regression\")\\\n",
    "        .enableHiveSupport()\\\n",
    "        .getOrCreate()"
   ]
  },
  {
   "cell_type": "code",
   "execution_count": 4,
   "metadata": {},
   "outputs": [],
   "source": [
    "# スキーマ定義\n",
    "struct = StructType([\n",
    "        StructField('Year', StringType(), False),\n",
    "        StructField('FarmID', DoubleType(), False),\n",
    "        StructField('MeanHighestTemperature', DoubleType(), False),\n",
    "        StructField('MeanMinimumTemperature', DoubleType(), False),\n",
    "        StructField('MeanWhc', DoubleType(), False),\n",
    "        StructField('MeanDaylightHours', DoubleType(), False),\n",
    "        StructField('MeanDayOfSoilAcidityRange', DoubleType(), False),\n",
    "        StructField('TotalYield', DoubleType(), False),\n",
    "        StructField('Area', DoubleType(), False),\n",
    "        StructField('YieldPerA', DoubleType(), False),\n",
    "        StructField('label', DoubleType(), False)\n",
    "        ])"
   ]
  },
  {
   "cell_type": "code",
   "execution_count": 6,
   "metadata": {},
   "outputs": [
    {
     "name": "stdout",
     "output_type": "stream",
     "text": [
      "+----+------+----------------------+----------------------+-------+-----------------+-------------------------+----------+----+---------+-----+\n",
      "|Year|FarmID|MeanHighestTemperature|MeanMinimumTemperature|MeanWhc|MeanDaylightHours|MeanDayOfSoilAcidityRange|TotalYield|Area|YieldPerA|label|\n",
      "+----+------+----------------------+----------------------+-------+-----------------+-------------------------+----------+----+---------+-----+\n",
      "|2007|   1.0|                 11.08|                  2.94|   14.5|           166.99|                     21.0|1423222.21| 4.5|  3162.72|  0.0|\n",
      "|2007|   2.0|                 11.18|                  2.94|   14.7|           169.09|                     21.0|1457585.51| 5.0|  2915.17|  0.0|\n",
      "|2007|   3.0|                 11.98|                  3.04|   13.9|           171.49|                     21.0|1150258.61| 3.0|   3834.2|  1.0|\n",
      "|2007|   4.0|                 10.58|                  3.34|   16.4|           166.39|                     21.0|2327859.58| 6.0|  3879.77|  1.0|\n",
      "|2007|   5.0|                 11.08|                  2.44|   14.9|           174.19|                     20.0|1448612.55| 4.0|  3621.53|  1.0|\n",
      "|2008|   1.0|                 10.58|                  3.04|   13.6|           171.09|                     22.0|1817120.47| 4.5|  4038.05|  1.0|\n",
      "|2008|   2.0|                 10.68|                  3.04|   13.6|           165.89|                     22.0|2111691.74| 5.0|  4223.38|  1.0|\n",
      "|2008|   3.0|                 11.38|                  2.64|   13.7|           163.39|                     24.0|1225468.03| 3.0|  4084.89|  1.0|\n",
      "|2008|   4.0|                 11.28|                  3.24|   15.4|           173.99|                     22.0|2784617.62| 6.0|  4641.03|  1.0|\n",
      "|2008|   5.0|                 10.98|                  3.54|   15.5|           170.69|                     22.0|1532904.11| 4.0|  3832.26|  1.0|\n",
      "+----+------+----------------------+----------------------+-------+-----------------+-------------------------+----------+----+---------+-----+\n",
      "only showing top 10 rows\n",
      "\n"
     ]
    }
   ],
   "source": [
    "# 6月データでDataFrame作成\n",
    "df6 = ss.read.csv('./batchAnalysticsData_train_6.csv',\n",
    "                 header=True, encoding='UTF-8', schema=struct)\n",
    "df6.show(10)"
   ]
  },
  {
   "cell_type": "code",
   "execution_count": 7,
   "metadata": {},
   "outputs": [],
   "source": [
    "# データセットの分割\n",
    "df6TrainData, df6TestData = df6.randomSplit([0.7, 0.3], 50)"
   ]
  },
  {
   "cell_type": "markdown",
   "metadata": {},
   "source": [
    "## 線形回帰モデル作成"
   ]
  },
  {
   "cell_type": "code",
   "execution_count": 8,
   "metadata": {},
   "outputs": [],
   "source": [
    "# 特徴量候補\n",
    "# 1. 畑×土壌酸度範囲内日数×平均最高気温\n",
    "# 2. 畑×土壌酸度範囲内日数×平均最低気温\n",
    "# 3. 畑×土壌酸度範囲内日数×平均含水気温\n",
    "# 4. 畑×土壌酸度範囲内日数×日照合計時間\n",
    "\n",
    "# 上記組み合わせのVectorAssemberを定義\n",
    "\n",
    "# VectorAssembler用リスト\n",
    "assemblerForLR = []\n",
    "\n",
    "# 各VectorAssembler作成\n",
    "assemblerForLR.append(\n",
    "        VectorAssembler(inputCols=[\n",
    "            \"FarmID\",\n",
    "            \"MeanDayOfSoilAcidityRange\",\n",
    "            \"MeanHighestTemperature\"],\n",
    "            outputCol=\"features\")\n",
    "        )\n",
    "assemblerForLR.append(\n",
    "        VectorAssembler(inputCols=[\n",
    "            \"FarmID\",\n",
    "            \"MeanDayOfSoilAcidityRange\",\n",
    "            \"MeanMinimumTemperature\"],\n",
    "            outputCol=\"features\")\n",
    "        )\n",
    "assemblerForLR.append(\n",
    "        VectorAssembler(inputCols=[\n",
    "            \"FarmID\",\n",
    "            \"MeanDayOfSoilAcidityRange\",\n",
    "            \"MeanWhc\"],\n",
    "            outputCol=\"features\")\n",
    "        )\n",
    "assemblerForLR.append(\n",
    "        VectorAssembler(inputCols=[\n",
    "            \"FarmID\",\n",
    "            \"MeanDayOfSoilAcidityRange\",\n",
    "            \"MeanDaylightHours\"],\n",
    "            outputCol=\"features\")\n",
    "        )"
   ]
  },
  {
   "cell_type": "code",
   "execution_count": 9,
   "metadata": {},
   "outputs": [],
   "source": [
    "# ML Pipelineの定義\n",
    "\n",
    "# 標準化\n",
    "scalerForLR = StandardScaler(inputCol=\"features\", outputCol=\"standardedFeature\",\n",
    "                            withStd=True, withMean=True)"
   ]
  },
  {
   "cell_type": "code",
   "execution_count": 10,
   "metadata": {},
   "outputs": [],
   "source": [
    "# 線型回帰インスタンス\n",
    "regressionByLR = LinearRegression()\\\n",
    "                    .setLabelCol(\"YieldPerA\")\\\n",
    "                    .setFeaturesCol(\"standardedFeature\")\\\n",
    "                    .setStandardization(True)"
   ]
  },
  {
   "cell_type": "code",
   "execution_count": 11,
   "metadata": {},
   "outputs": [],
   "source": [
    "# ML Pipeline\n",
    "pipelineForLR = []\n",
    "for assembler in assemblerForLR:\n",
    "    pipelineForLR.append(\n",
    "        Pipeline(\n",
    "            stages=[\n",
    "                assembler,\n",
    "                scalerForLR,\n",
    "                regressionByLR\n",
    "            ]\n",
    "        )\n",
    "    )"
   ]
  },
  {
   "cell_type": "code",
   "execution_count": 12,
   "metadata": {},
   "outputs": [],
   "source": [
    "# グリッドサーチ定義\n",
    "paramGridForLR = ParamGridBuilder()\\\n",
    "                    .addGrid(regressionByLR.regParam, [0.001, 0.01, 0.1, 1.0, 10.0, 100.0])\\\n",
    "                    .addGrid(regressionByLR.maxIter, [10, 100, 1000])\\\n",
    "                    .addGrid(regressionByLR.elasticNetParam, [0.0, 0.2, 0.4, 0.6, 0.8, 1.0])\\\n",
    "                    .build()"
   ]
  },
  {
   "cell_type": "code",
   "execution_count": 13,
   "metadata": {},
   "outputs": [],
   "source": [
    "# 評価用インスタンス\n",
    "evaluatorForLR = RegressionEvaluator().setLabelCol(\"YieldPerA\").setMetricName(\"rmse\")"
   ]
  },
  {
   "cell_type": "code",
   "execution_count": 14,
   "metadata": {},
   "outputs": [],
   "source": [
    "# クロスバリデーション定義\n",
    "crossValidatorForLR = []\n",
    "for pipeline in pipelineForLR:\n",
    "    crossValidatorForLR.append(\n",
    "        CrossValidator()\\\n",
    "            .setEstimator(pipeline)\\\n",
    "            .setEvaluator(evaluatorForLR)\\\n",
    "            .setEstimatorParamMaps(paramGridForLR)\\\n",
    "            .setNumFolds(5)\n",
    "    )"
   ]
  },
  {
   "cell_type": "code",
   "execution_count": 16,
   "metadata": {},
   "outputs": [
    {
     "name": "stdout",
     "output_type": "stream",
     "text": [
      "-- df6TrainData --\n",
      "+----+------+----------------------+----------------------+-------+-----------------+-------------------------+----------+----+---------+-----+\n",
      "|Year|FarmID|MeanHighestTemperature|MeanMinimumTemperature|MeanWhc|MeanDaylightHours|MeanDayOfSoilAcidityRange|TotalYield|Area|YieldPerA|label|\n",
      "+----+------+----------------------+----------------------+-------+-----------------+-------------------------+----------+----+---------+-----+\n",
      "|2007|   1.0|                 11.08|                  2.94|   14.5|           166.99|                     21.0|1423222.21| 4.5|  3162.72|  0.0|\n",
      "|2007|   2.0|                 11.18|                  2.94|   14.7|           169.09|                     21.0|1457585.51| 5.0|  2915.17|  0.0|\n",
      "|2007|   3.0|                 11.98|                  3.04|   13.9|           171.49|                     21.0|1150258.61| 3.0|   3834.2|  1.0|\n",
      "|2007|   4.0|                 10.58|                  3.34|   16.4|           166.39|                     21.0|2327859.58| 6.0|  3879.77|  1.0|\n",
      "|2007|   5.0|                 11.08|                  2.44|   14.9|           174.19|                     20.0|1448612.55| 4.0|  3621.53|  1.0|\n",
      "|2008|   1.0|                 10.58|                  3.04|   13.6|           171.09|                     22.0|1817120.47| 4.5|  4038.05|  1.0|\n",
      "|2008|   2.0|                 10.68|                  3.04|   13.6|           165.89|                     22.0|2111691.74| 5.0|  4223.38|  1.0|\n",
      "|2008|   3.0|                 11.38|                  2.64|   13.7|           163.39|                     24.0|1225468.03| 3.0|  4084.89|  1.0|\n",
      "|2008|   4.0|                 11.28|                  3.24|   15.4|           173.99|                     22.0|2784617.62| 6.0|  4641.03|  1.0|\n",
      "|2009|   1.0|                 10.98|                  3.64|   14.2|           166.59|                     22.0| 1515486.0| 4.5|  3367.75|  1.0|\n",
      "+----+------+----------------------+----------------------+-------+-----------------+-------------------------+----------+----+---------+-----+\n",
      "only showing top 10 rows\n",
      "\n"
     ]
    }
   ],
   "source": [
    "# モデルを作成し、訓練データで予測\n",
    "\n",
    "# 訓練データ\n",
    "print(\"-- df6TrainData --\")\n",
    "df6TrainData.show(10)"
   ]
  },
  {
   "cell_type": "code",
   "execution_count": 17,
   "metadata": {},
   "outputs": [
    {
     "name": "stdout",
     "output_type": "stream",
     "text": [
      "CPU times: user 55.8 s, sys: 34.7 s, total: 1min 30s\n",
      "Wall time: 6min 53s\n"
     ]
    }
   ],
   "source": [
    "%%time\n",
    "# モデル作成\n",
    "modelByLR = []\n",
    "for crossValidator in crossValidatorForLR:\n",
    "    modelByLR.append(crossValidator.fit(df6TrainData))"
   ]
  },
  {
   "cell_type": "code",
   "execution_count": 18,
   "metadata": {},
   "outputs": [
    {
     "name": "stdout",
     "output_type": "stream",
     "text": [
      "-- RMSE-TrainData(Linear Regression) --\n",
      "0 471.9291822630905\n",
      "1 487.2582855969672\n",
      "2 480.9451639009866\n",
      "3 383.2803016030876\n"
     ]
    }
   ],
   "source": [
    "# 訓練データで予測を行い、RMSEを出力\n",
    "print(\"-- RMSE-TrainData(Linear Regression) --\")\n",
    "for i, model in enumerate(modelByLR):\n",
    "    prediction = model.transform(df6TrainData)\n",
    "    rmse = evaluatorForLR.evaluate(prediction)\n",
    "    print(i, rmse)"
   ]
  },
  {
   "cell_type": "code",
   "execution_count": 19,
   "metadata": {},
   "outputs": [],
   "source": [
    "# 上記より、3. 畑×土壌酸度範囲内日数×日照合計時間 の組み合わせが最適"
   ]
  },
  {
   "cell_type": "markdown",
   "metadata": {},
   "source": [
    "## 回帰木モデルの作成"
   ]
  },
  {
   "cell_type": "code",
   "execution_count": 20,
   "metadata": {},
   "outputs": [],
   "source": [
    "from pyspark.ml.regression import DecisionTreeRegressor"
   ]
  },
  {
   "cell_type": "code",
   "execution_count": 23,
   "metadata": {},
   "outputs": [],
   "source": [
    "# ML Pipelineの定義\n",
    "assemblerForDR = VectorAssembler(\n",
    "                    inputCols=[\n",
    "                        \"FarmID\",\n",
    "                        \"MeanHighestTemperature\",\n",
    "                        \"MeanMinimumTemperature\",\n",
    "                        \"MeanWhc\",\n",
    "                        \"MeanDaylightHours\",\n",
    "                        \"MeanDayOfSoilAcidityRange\"\n",
    "                    ],\n",
    "                    outputCol=\"features\")"
   ]
  },
  {
   "cell_type": "code",
   "execution_count": 24,
   "metadata": {},
   "outputs": [],
   "source": [
    "# 回帰木インスタンス\n",
    "regressionByDR = DecisionTreeRegressor()\\\n",
    "                    .setLabelCol(\"YieldPerA\")\\\n",
    "                    .setFeaturesCol(\"features\")"
   ]
  },
  {
   "cell_type": "code",
   "execution_count": 25,
   "metadata": {},
   "outputs": [],
   "source": [
    "# pipeline作成\n",
    "pipelineForDR = Pipeline(\n",
    "                    stages=[\n",
    "                        assemblerForDR,\n",
    "                        regressionByDR\n",
    "                    ])"
   ]
  },
  {
   "cell_type": "code",
   "execution_count": 26,
   "metadata": {},
   "outputs": [],
   "source": [
    "# グリッドサーチ定義\n",
    "paramGridForDR = ParamGridBuilder()\\\n",
    "                    .addGrid(regressionByDR.maxBins, [10, 20, 30, 40, 50])\\\n",
    "                    .addGrid(regressionByDR.maxDepth, [2, 3, 4])\\\n",
    "                    .build()"
   ]
  },
  {
   "cell_type": "code",
   "execution_count": 27,
   "metadata": {},
   "outputs": [],
   "source": [
    "# 評価用インスタンス\n",
    "evaluatorForDR = RegressionEvaluator()\\\n",
    "                    .setLabelCol(\"YieldPerA\")\\\n",
    "                    .setMetricName(\"rmse\")"
   ]
  },
  {
   "cell_type": "code",
   "execution_count": 28,
   "metadata": {},
   "outputs": [],
   "source": [
    "# クロスバリデーション定義\n",
    "crossValidatorForDR = CrossValidator()\\\n",
    "                        .setEstimator(pipelineForDR)\\\n",
    "                        .setEvaluator(evaluatorForDR)\\\n",
    "                        .setEstimatorParamMaps(paramGridForDR)\\\n",
    "                        .setNumFolds(5)"
   ]
  },
  {
   "cell_type": "code",
   "execution_count": 29,
   "metadata": {},
   "outputs": [
    {
     "name": "stdout",
     "output_type": "stream",
     "text": [
      "-- RMSE-TrainData(DecisionTree Regression) --\n",
      "363.7301426815155\n"
     ]
    }
   ],
   "source": [
    "# モデルを作成し、訓練データで予測\n",
    "\n",
    "modelByDR = crossValidatorForDR.fit(df6TrainData)\n",
    "\n",
    "predictionTrainDataByDR = modelByDR.transform(df6TrainData)\n",
    "\n",
    "rmseTrainDataByDR = evaluatorForDR.evaluate(predictionTrainDataByDR)\n",
    "\n",
    "print(\"-- RMSE-TrainData(DecisionTree Regression) --\")\n",
    "print(rmseTrainDataByDR)"
   ]
  },
  {
   "cell_type": "markdown",
   "metadata": {},
   "source": [
    "## テストデータでrmse求め、モデルを選択"
   ]
  },
  {
   "cell_type": "code",
   "execution_count": 30,
   "metadata": {},
   "outputs": [
    {
     "name": "stdout",
     "output_type": "stream",
     "text": [
      "-- RMSE-TestData(LinearRegression Regression) --\n",
      "411.9385137962273\n"
     ]
    }
   ],
   "source": [
    "predictionTestDataByLR = modelByLR[3].transform(df6TestData)\n",
    "rmseTestDataByLR = evaluatorForLR.evaluate(predictionTestDataByLR)\n",
    "print(\"-- RMSE-TestData(LinearRegression Regression) --\")\n",
    "print(rmseTestDataByLR)"
   ]
  },
  {
   "cell_type": "code",
   "execution_count": 31,
   "metadata": {},
   "outputs": [
    {
     "name": "stdout",
     "output_type": "stream",
     "text": [
      "-- RMSE-TestData(DesicionTree Regression) --\n",
      "526.2378016592534\n"
     ]
    }
   ],
   "source": [
    "predictionTestDataByDR = modelByDR.transform(df6TestData)\n",
    "rmseTestDataByDR = evaluatorForDR.evaluate(predictionTestDataByDR)\n",
    "print(\"-- RMSE-TestData(DesicionTree Regression) --\")\n",
    "print(rmseTestDataByDR)"
   ]
  },
  {
   "cell_type": "code",
   "execution_count": 32,
   "metadata": {},
   "outputs": [],
   "source": [
    "# 上記より、線型回帰モデルを選択する"
   ]
  },
  {
   "cell_type": "code",
   "execution_count": 34,
   "metadata": {},
   "outputs": [
    {
     "name": "stdout",
     "output_type": "stream",
     "text": [
      "+----+------+----------------------+----------------------+-------+-----------------+-------------------------+----------+----+---------+-----+\n",
      "|Year|FarmID|MeanHighestTemperature|MeanMinimumTemperature|MeanWhc|MeanDaylightHours|MeanDayOfSoilAcidityRange|TotalYield|Area|YieldPerA|label|\n",
      "+----+------+----------------------+----------------------+-------+-----------------+-------------------------+----------+----+---------+-----+\n",
      "|2017|   1.0|                 11.18|                  2.54|   15.8|           167.49|                     23.0|      null|null|     null| null|\n",
      "|2017|   2.0|                 10.38|                  2.24|   15.3|           173.39|                     23.0|      null|null|     null| null|\n",
      "|2017|   3.0|                 10.88|                  3.24|   15.6|           170.99|                     22.0|      null|null|     null| null|\n",
      "|2017|   4.0|                 11.58|                  2.44|   13.4|           171.79|                     21.0|      null|null|     null| null|\n",
      "|2017|   5.0|                 11.38|                  3.74|   15.9|           169.19|                     19.0|      null|null|     null| null|\n",
      "+----+------+----------------------+----------------------+-------+-----------------+-------------------------+----------+----+---------+-----+\n",
      "\n"
     ]
    }
   ],
   "source": [
    "# 未知データを、線型回帰モデルで予測\n",
    "\n",
    "# 未知データ読み込み\n",
    "df6Predict = ss.read.csv('./batchAnalysticsData_predict_6.csv',\n",
    "                        header=True, encoding='UTF-8', schema=struct)\n",
    "df6Predict.show(5)"
   ]
  },
  {
   "cell_type": "code",
   "execution_count": 35,
   "metadata": {},
   "outputs": [],
   "source": [
    "# 予測\n",
    "predictionFutureDataByLR = modelByLR[3].transform(df6Predict)"
   ]
  },
  {
   "cell_type": "code",
   "execution_count": 37,
   "metadata": {},
   "outputs": [
    {
     "name": "stdout",
     "output_type": "stream",
     "text": [
      "-- LastYearFactData --\n",
      "+----+------+---------+\n",
      "|Year|FarmID|YieldPerA|\n",
      "+----+------+---------+\n",
      "|2016|   1.0|  3550.63|\n",
      "|2016|   2.0|   3410.7|\n",
      "|2016|   3.0|  4156.91|\n",
      "|2016|   4.0|  3728.93|\n",
      "|2016|   5.0|  3386.44|\n",
      "+----+------+---------+\n",
      "\n",
      "\n",
      "-- RMSE-FutureData(LinerRegression) --\n",
      "+------+------------------+\n",
      "|FarmID|        Prediction|\n",
      "+------+------------------+\n",
      "|   1.0| 4147.876437869045|\n",
      "|   2.0| 4695.928014020988|\n",
      "|   3.0| 4129.276971432694|\n",
      "|   4.0| 3849.910979806184|\n",
      "|   5.0|2895.7476037246724|\n",
      "+------+------------------+\n",
      "\n"
     ]
    }
   ],
   "source": [
    "# 実測値と予測結果表示\n",
    "\n",
    "print(\"-- LastYearFactData --\")\n",
    "df6.filter(df6[\"Year\"] == \"2016\").select(\"Year\", \"FarmID\", \"YieldPerA\").show(10)\n",
    "\n",
    "print(\"\\n-- RMSE-FutureData(LinerRegression) --\")\n",
    "predictionFutureDataByLR.select(\"FarmID\", \"Prediction\").show(10)"
   ]
  },
  {
   "cell_type": "code",
   "execution_count": null,
   "metadata": {},
   "outputs": [],
   "source": []
  },
  {
   "cell_type": "code",
   "execution_count": null,
   "metadata": {},
   "outputs": [],
   "source": []
  }
 ],
 "metadata": {
  "kernelspec": {
   "display_name": "Python 3",
   "language": "python",
   "name": "python3"
  },
  "language_info": {
   "codemirror_mode": {
    "name": "ipython",
    "version": 3
   },
   "file_extension": ".py",
   "mimetype": "text/x-python",
   "name": "python",
   "nbconvert_exporter": "python",
   "pygments_lexer": "ipython3",
   "version": "3.8.10"
  }
 },
 "nbformat": 4,
 "nbformat_minor": 4
}
