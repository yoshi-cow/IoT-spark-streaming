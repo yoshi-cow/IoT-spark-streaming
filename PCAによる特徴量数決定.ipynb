{
 "cells": [
  {
   "cell_type": "markdown",
   "metadata": {},
   "source": [
    "# PCAを用いて、特徴量の利用数を決める"
   ]
  },
  {
   "cell_type": "code",
   "execution_count": 1,
   "metadata": {},
   "outputs": [],
   "source": [
    "import findspark\n",
    "findspark.init('/home/yoshi-1/spark-3.1.1-bin-hadoop2.7')\n",
    "\n",
    "from pyspark.sql import SparkSession\n",
    "from pyspark.sql.types import *\n",
    "\n",
    "from pyspark.ml.pipeline import Pipeline\n",
    "from pyspark.ml.feature import PCA\n",
    "from pyspark.ml.feature import VectorAssembler\n",
    "from pyspark.ml.feature import StandardScaler"
   ]
  },
  {
   "cell_type": "markdown",
   "metadata": {},
   "source": [
    "## 訓練データ読み込み"
   ]
  },
  {
   "cell_type": "code",
   "execution_count": 2,
   "metadata": {},
   "outputs": [],
   "source": [
    "# sparksessionのインスタンス化\n",
    "ss = SparkSession \\\n",
    "            .builder \\\n",
    "            .appName(\"PCA\") \\\n",
    "            .enableHiveSupport() \\\n",
    "            .getOrCreate()"
   ]
  },
  {
   "cell_type": "code",
   "execution_count": 6,
   "metadata": {},
   "outputs": [],
   "source": [
    "# 読み込むｃｓｖファイルのスキーマを定義\n",
    "struct = StructType([\n",
    "            StructField('Year', StringType(), False),\n",
    "            StructField('FarmID', DoubleType(), False),\n",
    "            StructField('MeanHighestTemperature', DoubleType(), False),\n",
    "            StructField('MeanMinimumtemperature', DoubleType(), False),\n",
    "            StructField('MeanWhc', DoubleType(), False),\n",
    "            StructField('MeanDaylightHours', DoubleType(), False),\n",
    "            StructField('MeanDayOfSoilAcidityRange', DoubleType(), False),\n",
    "            StructField('TotalYield', DoubleType(), False),\n",
    "            StructField('Area', DoubleType(), False),\n",
    "            StructField('YieldPerA', DoubleType(), False),\n",
    "            StructField('label', DoubleType(), False)\n",
    "        ])\n",
    "\n",
    "# または、下の方法でも良い\n",
    "# struct = StructType().add('Year', StringType())\\\n",
    "#                     .add('FarmID', DoubleType())\\\n",
    "#                     .add('MeanHighestTemperature', DoubleType())\\\n",
    "#                     .add('MeanMinimumtemperature', DoubleType())\\\n",
    "#                     .add('MeanWhc', DoubleType())\\\n",
    "#                     .add('MeanDaylightHours', DoubleType())\\\n",
    "#                     .add('MeanDayOfSoilAcidityRange', DoubleType())\\\n",
    "#                     .add('TotalYield', DoubleType())\\\n",
    "#                     .add('Area', DoubleType())\\\n",
    "#                     .add('YieldPerA', DoubleType())\\\n",
    "#                     .add('label', DoubleType())"
   ]
  },
  {
   "cell_type": "code",
   "execution_count": 9,
   "metadata": {},
   "outputs": [
    {
     "name": "stdout",
     "output_type": "stream",
     "text": [
      "+----+------+----------------------+----------------------+-------+-----------------+-------------------------+----------+----+---------+-----+\n",
      "|Year|FarmID|MeanHighestTemperature|MeanMinimumtemperature|MeanWhc|MeanDaylightHours|MeanDayOfSoilAcidityRange|TotalYield|Area|YieldPerA|label|\n",
      "+----+------+----------------------+----------------------+-------+-----------------+-------------------------+----------+----+---------+-----+\n",
      "|2007|1.0   |6.93                  |-1.3                  |14.17  |171.12           |18.0                     |1423222.21|4.5 |3162.72  |0.0  |\n",
      "|2007|2.0   |7.77                  |-0.63                 |15.83  |172.62           |18.0                     |1457585.51|5.0 |2915.17  |0.0  |\n",
      "|2007|3.0   |7.77                  |-1.13                 |14.5   |169.28           |18.0                     |1150258.61|3.0 |3834.2   |1.0  |\n",
      "|2007|4.0   |6.77                  |0.03                  |16.67  |170.12           |19.0                     |2327859.58|6.0 |3879.77  |1.0  |\n",
      "|2007|5.0   |6.93                  |-1.47                 |17.5   |173.78           |18.0                     |1448612.55|4.0 |3621.53  |1.0  |\n",
      "+----+------+----------------------+----------------------+-------+-----------------+-------------------------+----------+----+---------+-----+\n",
      "only showing top 5 rows\n",
      "\n"
     ]
    }
   ],
   "source": [
    "# csv読み込み\n",
    "df5 = ss.read.csv('./batchAnalysticsData_train_5.csv', \n",
    "                    header=True,\n",
    "                     encoding='UTF-8',\n",
    "                     schema=struct)\n",
    "\n",
    "df5.show(5, truncate=False)"
   ]
  },
  {
   "cell_type": "markdown",
   "metadata": {},
   "source": [
    "## Pipelineの生成"
   ]
  },
  {
   "cell_type": "code",
   "execution_count": 12,
   "metadata": {},
   "outputs": [],
   "source": [
    "# pipelineの各ステージの生成\n",
    "\n",
    "# 特徴量のベクトル化用ステージ\n",
    "assemblerForPCA = VectorAssembler(inputCols=df5.columns[1:6], outputCol=\"feature\")\n",
    "\n",
    "# 標準化のステージ（PCAは特徴量の標準化が必要)\n",
    "scalerForPCA = StandardScaler(inputCol=\"feature\", outputCol=\"standardedFeature\",\n",
    "                             withStd=True, withMean=True)\n",
    "\n",
    "# PCAをステージに指定する準備\n",
    "pca = PCA(k=5, inputCol=\"standardedFeature\", outputCol=\"pcaScore\")\n",
    "\n",
    "# pipelineの生成\n",
    "pipelineForPCA = Pipeline(\n",
    "                    stages=[\n",
    "                        assemblerForPCA,\n",
    "                        scalerForPCA,\n",
    "                        pca\n",
    "                    ])"
   ]
  },
  {
   "cell_type": "markdown",
   "metadata": {},
   "source": [
    "## Pipelineの実行とPCAの結果確認"
   ]
  },
  {
   "cell_type": "code",
   "execution_count": 13,
   "metadata": {},
   "outputs": [
    {
     "name": "stdout",
     "output_type": "stream",
     "text": [
      "[0.31398994868731134,0.25726992728560183,0.20181501063487386,0.12373536931107512,0.10318974408113785]\n"
     ]
    }
   ],
   "source": [
    "# モデルの生成\n",
    "modelForPCA = pipelineForPCA.fit(df5)\n",
    "\n",
    "# モデルの実行\n",
    "resultFromPCA = modelForPCA.transform(df5)\n",
    "\n",
    "# 寄与率の出力\n",
    "print(modelForPCA.stages[2].explainedVariance)"
   ]
  },
  {
   "cell_type": "code",
   "execution_count": 15,
   "metadata": {},
   "outputs": [
    {
     "name": "stdout",
     "output_type": "stream",
     "text": [
      "上位３特徴量の寄与率： 0.77\n"
     ]
    }
   ],
   "source": [
    "print(\"上位３特徴量の寄与率：\", 0.31 + 0.26 + 0.20)"
   ]
  },
  {
   "cell_type": "markdown",
   "metadata": {},
   "source": [
    "### ↑上記より、上位３つの特徴量で寄与率が0.7を超えたので、今回のモデルは3つの特徴量で表現する！"
   ]
  },
  {
   "cell_type": "code",
   "execution_count": null,
   "metadata": {},
   "outputs": [],
   "source": []
  },
  {
   "cell_type": "code",
   "execution_count": null,
   "metadata": {},
   "outputs": [],
   "source": []
  },
  {
   "cell_type": "code",
   "execution_count": null,
   "metadata": {},
   "outputs": [],
   "source": []
  }
 ],
 "metadata": {
  "kernelspec": {
   "display_name": "Python 3",
   "language": "python",
   "name": "python3"
  },
  "language_info": {
   "codemirror_mode": {
    "name": "ipython",
    "version": 3
   },
   "file_extension": ".py",
   "mimetype": "text/x-python",
   "name": "python",
   "nbconvert_exporter": "python",
   "pygments_lexer": "ipython3",
   "version": "3.8.10"
  }
 },
 "nbformat": 4,
 "nbformat_minor": 4
}
